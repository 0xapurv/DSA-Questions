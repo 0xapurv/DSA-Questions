{
 "cells": [
  {
   "cell_type": "markdown",
   "metadata": {},
   "source": [
    "# QUESTION : You have to sort the given string in the reverse order"
   ]
  },
  {
   "cell_type": "code",
   "execution_count": 2,
   "metadata": {},
   "outputs": [
    {
     "name": "stdout",
     "output_type": "stream",
     "text": [
      "abcabc\n",
      "The original string : abcabc\n",
      "String after reverse sorting : ccbbaa\n"
     ]
    }
   ],
   "source": [
    "# asking user for input string \n",
    "input_string = input()\n",
    "# printing original string \n",
    "print(\"The original string : \" + str(input_string))\n",
    "\n",
    "# using join() + sorted() + reverse\n",
    "# Sorting a string \n",
    "result = ''.join(sorted(input_string, reverse = True))\n",
    "      \n",
    "# print result\n",
    "print(\"String after reverse sorting : \" + str(result))"
   ]
  },
  {
   "cell_type": "code",
   "execution_count": null,
   "metadata": {},
   "outputs": [],
   "source": []
  }
 ],
 "metadata": {
  "kernelspec": {
   "display_name": "Python 3",
   "language": "python",
   "name": "python3"
  },
  "language_info": {
   "codemirror_mode": {
    "name": "ipython",
    "version": 3
   },
   "file_extension": ".py",
   "mimetype": "text/x-python",
   "name": "python",
   "nbconvert_exporter": "python",
   "pygments_lexer": "ipython3",
   "version": "3.7.7"
  }
 },
 "nbformat": 4,
 "nbformat_minor": 4
}
